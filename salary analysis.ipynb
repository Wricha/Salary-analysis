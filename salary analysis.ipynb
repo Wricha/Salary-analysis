{
 "cells": [
  {
   "cell_type": "code",
   "execution_count": 65,
   "id": "69560b53-00b2-49e3-8458-b737eef2c382",
   "metadata": {
    "tags": []
   },
   "outputs": [],
   "source": [
    "#importing pandas and matplotlib\n",
    "import pandas as pd\n",
    "import matplotlib.pyplot as plt\n",
    "import numpy as np"
   ]
  },
  {
   "cell_type": "markdown",
   "id": "0ebadf6f-47ac-46d9-9360-fc7f45333a4b",
   "metadata": {},
   "source": [
    "<h1>Data Preparation</h1>"
   ]
  },
  {
   "cell_type": "markdown",
   "id": "9d31ae58-2bb0-4a48-9119-7285f269973f",
   "metadata": {
    "tags": []
   },
   "source": [
    "<h3>Write a python program to load data into pandas DataFrame</h3> "
   ]
  },
  {
   "cell_type": "code",
   "execution_count": 66,
   "id": "ccf20d2a-fa9d-4185-828c-417c9517e747",
   "metadata": {
    "tags": []
   },
   "outputs": [],
   "source": [
    "#loading data into the dataframe\n",
    "salaries_df=pd.read_csv(r\"C:\\Users\\DELL\\Downloads\\DataScienceSalaries_82fcd341-306b-4fb9-b353-f4a4db520374_93472_.csv\")"
   ]
  },
  {
   "cell_type": "code",
   "execution_count": 67,
   "id": "63a3b202-a263-4647-9ac1-40e21971e3d0",
   "metadata": {
    "tags": []
   },
   "outputs": [
    {
     "data": {
      "text/html": [
       "<div>\n",
       "<style scoped>\n",
       "    .dataframe tbody tr th:only-of-type {\n",
       "        vertical-align: middle;\n",
       "    }\n",
       "\n",
       "    .dataframe tbody tr th {\n",
       "        vertical-align: top;\n",
       "    }\n",
       "\n",
       "    .dataframe thead th {\n",
       "        text-align: right;\n",
       "    }\n",
       "</style>\n",
       "<table border=\"1\" class=\"dataframe\">\n",
       "  <thead>\n",
       "    <tr style=\"text-align: right;\">\n",
       "      <th></th>\n",
       "      <th>work_year</th>\n",
       "      <th>experience_level</th>\n",
       "      <th>employment_type</th>\n",
       "      <th>job_title</th>\n",
       "      <th>salary</th>\n",
       "      <th>salary_currency</th>\n",
       "      <th>salary_in_usd</th>\n",
       "      <th>employee_residence</th>\n",
       "      <th>remote_ratio</th>\n",
       "      <th>company_location</th>\n",
       "      <th>company_size</th>\n",
       "    </tr>\n",
       "  </thead>\n",
       "  <tbody>\n",
       "    <tr>\n",
       "      <th>0</th>\n",
       "      <td>2023</td>\n",
       "      <td>SE</td>\n",
       "      <td>FT</td>\n",
       "      <td>Principal Data Scientist</td>\n",
       "      <td>80000</td>\n",
       "      <td>EUR</td>\n",
       "      <td>85847</td>\n",
       "      <td>ES</td>\n",
       "      <td>100</td>\n",
       "      <td>ES</td>\n",
       "      <td>L</td>\n",
       "    </tr>\n",
       "    <tr>\n",
       "      <th>1</th>\n",
       "      <td>2023</td>\n",
       "      <td>MI</td>\n",
       "      <td>CT</td>\n",
       "      <td>ML Engineer</td>\n",
       "      <td>30000</td>\n",
       "      <td>USD</td>\n",
       "      <td>30000</td>\n",
       "      <td>US</td>\n",
       "      <td>100</td>\n",
       "      <td>US</td>\n",
       "      <td>S</td>\n",
       "    </tr>\n",
       "    <tr>\n",
       "      <th>2</th>\n",
       "      <td>2023</td>\n",
       "      <td>MI</td>\n",
       "      <td>CT</td>\n",
       "      <td>ML Engineer</td>\n",
       "      <td>25500</td>\n",
       "      <td>USD</td>\n",
       "      <td>25500</td>\n",
       "      <td>US</td>\n",
       "      <td>100</td>\n",
       "      <td>US</td>\n",
       "      <td>S</td>\n",
       "    </tr>\n",
       "    <tr>\n",
       "      <th>3</th>\n",
       "      <td>2023</td>\n",
       "      <td>SE</td>\n",
       "      <td>FT</td>\n",
       "      <td>Data Scientist</td>\n",
       "      <td>175000</td>\n",
       "      <td>USD</td>\n",
       "      <td>175000</td>\n",
       "      <td>CA</td>\n",
       "      <td>100</td>\n",
       "      <td>CA</td>\n",
       "      <td>M</td>\n",
       "    </tr>\n",
       "    <tr>\n",
       "      <th>4</th>\n",
       "      <td>2023</td>\n",
       "      <td>SE</td>\n",
       "      <td>FT</td>\n",
       "      <td>Data Scientist</td>\n",
       "      <td>120000</td>\n",
       "      <td>USD</td>\n",
       "      <td>120000</td>\n",
       "      <td>CA</td>\n",
       "      <td>100</td>\n",
       "      <td>CA</td>\n",
       "      <td>M</td>\n",
       "    </tr>\n",
       "    <tr>\n",
       "      <th>...</th>\n",
       "      <td>...</td>\n",
       "      <td>...</td>\n",
       "      <td>...</td>\n",
       "      <td>...</td>\n",
       "      <td>...</td>\n",
       "      <td>...</td>\n",
       "      <td>...</td>\n",
       "      <td>...</td>\n",
       "      <td>...</td>\n",
       "      <td>...</td>\n",
       "      <td>...</td>\n",
       "    </tr>\n",
       "    <tr>\n",
       "      <th>3750</th>\n",
       "      <td>2020</td>\n",
       "      <td>SE</td>\n",
       "      <td>FT</td>\n",
       "      <td>Data Scientist</td>\n",
       "      <td>412000</td>\n",
       "      <td>USD</td>\n",
       "      <td>412000</td>\n",
       "      <td>US</td>\n",
       "      <td>100</td>\n",
       "      <td>US</td>\n",
       "      <td>L</td>\n",
       "    </tr>\n",
       "    <tr>\n",
       "      <th>3751</th>\n",
       "      <td>2021</td>\n",
       "      <td>MI</td>\n",
       "      <td>FT</td>\n",
       "      <td>Principal Data Scientist</td>\n",
       "      <td>151000</td>\n",
       "      <td>USD</td>\n",
       "      <td>151000</td>\n",
       "      <td>US</td>\n",
       "      <td>100</td>\n",
       "      <td>US</td>\n",
       "      <td>L</td>\n",
       "    </tr>\n",
       "    <tr>\n",
       "      <th>3752</th>\n",
       "      <td>2020</td>\n",
       "      <td>EN</td>\n",
       "      <td>FT</td>\n",
       "      <td>Data Scientist</td>\n",
       "      <td>105000</td>\n",
       "      <td>USD</td>\n",
       "      <td>105000</td>\n",
       "      <td>US</td>\n",
       "      <td>100</td>\n",
       "      <td>US</td>\n",
       "      <td>S</td>\n",
       "    </tr>\n",
       "    <tr>\n",
       "      <th>3753</th>\n",
       "      <td>2020</td>\n",
       "      <td>EN</td>\n",
       "      <td>CT</td>\n",
       "      <td>Business Data Analyst</td>\n",
       "      <td>100000</td>\n",
       "      <td>USD</td>\n",
       "      <td>100000</td>\n",
       "      <td>US</td>\n",
       "      <td>100</td>\n",
       "      <td>US</td>\n",
       "      <td>L</td>\n",
       "    </tr>\n",
       "    <tr>\n",
       "      <th>3754</th>\n",
       "      <td>2021</td>\n",
       "      <td>SE</td>\n",
       "      <td>FT</td>\n",
       "      <td>Data Science Manager</td>\n",
       "      <td>7000000</td>\n",
       "      <td>INR</td>\n",
       "      <td>94665</td>\n",
       "      <td>IN</td>\n",
       "      <td>50</td>\n",
       "      <td>IN</td>\n",
       "      <td>L</td>\n",
       "    </tr>\n",
       "  </tbody>\n",
       "</table>\n",
       "<p>3755 rows × 11 columns</p>\n",
       "</div>"
      ],
      "text/plain": [
       "      work_year experience_level employment_type                 job_title  \\\n",
       "0          2023               SE              FT  Principal Data Scientist   \n",
       "1          2023               MI              CT               ML Engineer   \n",
       "2          2023               MI              CT               ML Engineer   \n",
       "3          2023               SE              FT            Data Scientist   \n",
       "4          2023               SE              FT            Data Scientist   \n",
       "...         ...              ...             ...                       ...   \n",
       "3750       2020               SE              FT            Data Scientist   \n",
       "3751       2021               MI              FT  Principal Data Scientist   \n",
       "3752       2020               EN              FT            Data Scientist   \n",
       "3753       2020               EN              CT     Business Data Analyst   \n",
       "3754       2021               SE              FT      Data Science Manager   \n",
       "\n",
       "       salary salary_currency  salary_in_usd employee_residence  remote_ratio  \\\n",
       "0       80000             EUR          85847                 ES           100   \n",
       "1       30000             USD          30000                 US           100   \n",
       "2       25500             USD          25500                 US           100   \n",
       "3      175000             USD         175000                 CA           100   \n",
       "4      120000             USD         120000                 CA           100   \n",
       "...       ...             ...            ...                ...           ...   \n",
       "3750   412000             USD         412000                 US           100   \n",
       "3751   151000             USD         151000                 US           100   \n",
       "3752   105000             USD         105000                 US           100   \n",
       "3753   100000             USD         100000                 US           100   \n",
       "3754  7000000             INR          94665                 IN            50   \n",
       "\n",
       "     company_location company_size  \n",
       "0                  ES            L  \n",
       "1                  US            S  \n",
       "2                  US            S  \n",
       "3                  CA            M  \n",
       "4                  CA            M  \n",
       "...               ...          ...  \n",
       "3750               US            L  \n",
       "3751               US            L  \n",
       "3752               US            S  \n",
       "3753               US            L  \n",
       "3754               IN            L  \n",
       "\n",
       "[3755 rows x 11 columns]"
      ]
     },
     "execution_count": 67,
     "metadata": {},
     "output_type": "execute_result"
    }
   ],
   "source": [
    "salaries_df"
   ]
  },
  {
   "cell_type": "markdown",
   "id": "1e1e332e-3c86-44ec-9ca4-eb6a82c18232",
   "metadata": {
    "tags": []
   },
   "source": [
    "<h3>Write a python program to remove unnecessary columns i.e., salary and salary currency.</h3>"
   ]
  },
  {
   "cell_type": "code",
   "execution_count": 68,
   "id": "2f67998c-179e-44b8-96df-4ee7799b893b",
   "metadata": {
    "tags": []
   },
   "outputs": [],
   "source": [
    "#dropping column salary\n",
    "salaries_df.drop('salary',axis=1,inplace=True)"
   ]
  },
  {
   "cell_type": "code",
   "execution_count": 69,
   "id": "899347b8-7f69-4648-b0f2-fbbddb774a06",
   "metadata": {
    "tags": []
   },
   "outputs": [],
   "source": [
    "#dropping column salary_currency\n",
    "salaries_df.drop('salary_currency',axis=1,inplace=True)"
   ]
  },
  {
   "cell_type": "code",
   "execution_count": 70,
   "id": "0e50f697-9065-4fe8-af46-afe57846b360",
   "metadata": {
    "tags": []
   },
   "outputs": [
    {
     "data": {
      "text/html": [
       "<div>\n",
       "<style scoped>\n",
       "    .dataframe tbody tr th:only-of-type {\n",
       "        vertical-align: middle;\n",
       "    }\n",
       "\n",
       "    .dataframe tbody tr th {\n",
       "        vertical-align: top;\n",
       "    }\n",
       "\n",
       "    .dataframe thead th {\n",
       "        text-align: right;\n",
       "    }\n",
       "</style>\n",
       "<table border=\"1\" class=\"dataframe\">\n",
       "  <thead>\n",
       "    <tr style=\"text-align: right;\">\n",
       "      <th></th>\n",
       "      <th>work_year</th>\n",
       "      <th>experience_level</th>\n",
       "      <th>employment_type</th>\n",
       "      <th>job_title</th>\n",
       "      <th>salary_in_usd</th>\n",
       "      <th>employee_residence</th>\n",
       "      <th>remote_ratio</th>\n",
       "      <th>company_location</th>\n",
       "      <th>company_size</th>\n",
       "    </tr>\n",
       "  </thead>\n",
       "  <tbody>\n",
       "    <tr>\n",
       "      <th>0</th>\n",
       "      <td>2023</td>\n",
       "      <td>SE</td>\n",
       "      <td>FT</td>\n",
       "      <td>Principal Data Scientist</td>\n",
       "      <td>85847</td>\n",
       "      <td>ES</td>\n",
       "      <td>100</td>\n",
       "      <td>ES</td>\n",
       "      <td>L</td>\n",
       "    </tr>\n",
       "    <tr>\n",
       "      <th>1</th>\n",
       "      <td>2023</td>\n",
       "      <td>MI</td>\n",
       "      <td>CT</td>\n",
       "      <td>ML Engineer</td>\n",
       "      <td>30000</td>\n",
       "      <td>US</td>\n",
       "      <td>100</td>\n",
       "      <td>US</td>\n",
       "      <td>S</td>\n",
       "    </tr>\n",
       "    <tr>\n",
       "      <th>2</th>\n",
       "      <td>2023</td>\n",
       "      <td>MI</td>\n",
       "      <td>CT</td>\n",
       "      <td>ML Engineer</td>\n",
       "      <td>25500</td>\n",
       "      <td>US</td>\n",
       "      <td>100</td>\n",
       "      <td>US</td>\n",
       "      <td>S</td>\n",
       "    </tr>\n",
       "    <tr>\n",
       "      <th>3</th>\n",
       "      <td>2023</td>\n",
       "      <td>SE</td>\n",
       "      <td>FT</td>\n",
       "      <td>Data Scientist</td>\n",
       "      <td>175000</td>\n",
       "      <td>CA</td>\n",
       "      <td>100</td>\n",
       "      <td>CA</td>\n",
       "      <td>M</td>\n",
       "    </tr>\n",
       "    <tr>\n",
       "      <th>4</th>\n",
       "      <td>2023</td>\n",
       "      <td>SE</td>\n",
       "      <td>FT</td>\n",
       "      <td>Data Scientist</td>\n",
       "      <td>120000</td>\n",
       "      <td>CA</td>\n",
       "      <td>100</td>\n",
       "      <td>CA</td>\n",
       "      <td>M</td>\n",
       "    </tr>\n",
       "    <tr>\n",
       "      <th>...</th>\n",
       "      <td>...</td>\n",
       "      <td>...</td>\n",
       "      <td>...</td>\n",
       "      <td>...</td>\n",
       "      <td>...</td>\n",
       "      <td>...</td>\n",
       "      <td>...</td>\n",
       "      <td>...</td>\n",
       "      <td>...</td>\n",
       "    </tr>\n",
       "    <tr>\n",
       "      <th>3750</th>\n",
       "      <td>2020</td>\n",
       "      <td>SE</td>\n",
       "      <td>FT</td>\n",
       "      <td>Data Scientist</td>\n",
       "      <td>412000</td>\n",
       "      <td>US</td>\n",
       "      <td>100</td>\n",
       "      <td>US</td>\n",
       "      <td>L</td>\n",
       "    </tr>\n",
       "    <tr>\n",
       "      <th>3751</th>\n",
       "      <td>2021</td>\n",
       "      <td>MI</td>\n",
       "      <td>FT</td>\n",
       "      <td>Principal Data Scientist</td>\n",
       "      <td>151000</td>\n",
       "      <td>US</td>\n",
       "      <td>100</td>\n",
       "      <td>US</td>\n",
       "      <td>L</td>\n",
       "    </tr>\n",
       "    <tr>\n",
       "      <th>3752</th>\n",
       "      <td>2020</td>\n",
       "      <td>EN</td>\n",
       "      <td>FT</td>\n",
       "      <td>Data Scientist</td>\n",
       "      <td>105000</td>\n",
       "      <td>US</td>\n",
       "      <td>100</td>\n",
       "      <td>US</td>\n",
       "      <td>S</td>\n",
       "    </tr>\n",
       "    <tr>\n",
       "      <th>3753</th>\n",
       "      <td>2020</td>\n",
       "      <td>EN</td>\n",
       "      <td>CT</td>\n",
       "      <td>Business Data Analyst</td>\n",
       "      <td>100000</td>\n",
       "      <td>US</td>\n",
       "      <td>100</td>\n",
       "      <td>US</td>\n",
       "      <td>L</td>\n",
       "    </tr>\n",
       "    <tr>\n",
       "      <th>3754</th>\n",
       "      <td>2021</td>\n",
       "      <td>SE</td>\n",
       "      <td>FT</td>\n",
       "      <td>Data Science Manager</td>\n",
       "      <td>94665</td>\n",
       "      <td>IN</td>\n",
       "      <td>50</td>\n",
       "      <td>IN</td>\n",
       "      <td>L</td>\n",
       "    </tr>\n",
       "  </tbody>\n",
       "</table>\n",
       "<p>3755 rows × 9 columns</p>\n",
       "</div>"
      ],
      "text/plain": [
       "      work_year experience_level employment_type                 job_title  \\\n",
       "0          2023               SE              FT  Principal Data Scientist   \n",
       "1          2023               MI              CT               ML Engineer   \n",
       "2          2023               MI              CT               ML Engineer   \n",
       "3          2023               SE              FT            Data Scientist   \n",
       "4          2023               SE              FT            Data Scientist   \n",
       "...         ...              ...             ...                       ...   \n",
       "3750       2020               SE              FT            Data Scientist   \n",
       "3751       2021               MI              FT  Principal Data Scientist   \n",
       "3752       2020               EN              FT            Data Scientist   \n",
       "3753       2020               EN              CT     Business Data Analyst   \n",
       "3754       2021               SE              FT      Data Science Manager   \n",
       "\n",
       "      salary_in_usd employee_residence  remote_ratio company_location  \\\n",
       "0             85847                 ES           100               ES   \n",
       "1             30000                 US           100               US   \n",
       "2             25500                 US           100               US   \n",
       "3            175000                 CA           100               CA   \n",
       "4            120000                 CA           100               CA   \n",
       "...             ...                ...           ...              ...   \n",
       "3750         412000                 US           100               US   \n",
       "3751         151000                 US           100               US   \n",
       "3752         105000                 US           100               US   \n",
       "3753         100000                 US           100               US   \n",
       "3754          94665                 IN            50               IN   \n",
       "\n",
       "     company_size  \n",
       "0               L  \n",
       "1               S  \n",
       "2               S  \n",
       "3               M  \n",
       "4               M  \n",
       "...           ...  \n",
       "3750            L  \n",
       "3751            L  \n",
       "3752            S  \n",
       "3753            L  \n",
       "3754            L  \n",
       "\n",
       "[3755 rows x 9 columns]"
      ]
     },
     "execution_count": 70,
     "metadata": {},
     "output_type": "execute_result"
    }
   ],
   "source": [
    "#table view after dropping columns salary and salary_currency\n",
    "salaries_df"
   ]
  },
  {
   "cell_type": "markdown",
   "id": "03831b0d-f591-4b65-939b-5223be65701c",
   "metadata": {
    "tags": []
   },
   "source": [
    "<h3>Write a python program to remove the NaN missing values from updated dataframe.</h3> "
   ]
  },
  {
   "cell_type": "code",
   "execution_count": 71,
   "id": "ff723903-7fde-46e9-84fc-19a076a5cf6b",
   "metadata": {
    "tags": []
   },
   "outputs": [
    {
     "data": {
      "text/plain": [
       "work_year             0\n",
       "experience_level      0\n",
       "employment_type       0\n",
       "job_title             0\n",
       "salary_in_usd         0\n",
       "employee_residence    0\n",
       "remote_ratio          0\n",
       "company_location      0\n",
       "company_size          0\n",
       "dtype: int64"
      ]
     },
     "execution_count": 71,
     "metadata": {},
     "output_type": "execute_result"
    }
   ],
   "source": [
    "#checking null values in the dataframe\n",
    "salaries_df.isna().sum()"
   ]
  },
  {
   "cell_type": "code",
   "execution_count": 72,
   "id": "2be71ef2-f981-49e3-8124-50aa66d1dc0c",
   "metadata": {
    "tags": []
   },
   "outputs": [
    {
     "data": {
      "text/html": [
       "<div>\n",
       "<style scoped>\n",
       "    .dataframe tbody tr th:only-of-type {\n",
       "        vertical-align: middle;\n",
       "    }\n",
       "\n",
       "    .dataframe tbody tr th {\n",
       "        vertical-align: top;\n",
       "    }\n",
       "\n",
       "    .dataframe thead th {\n",
       "        text-align: right;\n",
       "    }\n",
       "</style>\n",
       "<table border=\"1\" class=\"dataframe\">\n",
       "  <thead>\n",
       "    <tr style=\"text-align: right;\">\n",
       "      <th></th>\n",
       "      <th>work_year</th>\n",
       "      <th>experience_level</th>\n",
       "      <th>employment_type</th>\n",
       "      <th>job_title</th>\n",
       "      <th>salary_in_usd</th>\n",
       "      <th>employee_residence</th>\n",
       "      <th>remote_ratio</th>\n",
       "      <th>company_location</th>\n",
       "      <th>company_size</th>\n",
       "    </tr>\n",
       "  </thead>\n",
       "  <tbody>\n",
       "    <tr>\n",
       "      <th>0</th>\n",
       "      <td>2023</td>\n",
       "      <td>SE</td>\n",
       "      <td>FT</td>\n",
       "      <td>Principal Data Scientist</td>\n",
       "      <td>85847</td>\n",
       "      <td>ES</td>\n",
       "      <td>100</td>\n",
       "      <td>ES</td>\n",
       "      <td>L</td>\n",
       "    </tr>\n",
       "    <tr>\n",
       "      <th>1</th>\n",
       "      <td>2023</td>\n",
       "      <td>MI</td>\n",
       "      <td>CT</td>\n",
       "      <td>ML Engineer</td>\n",
       "      <td>30000</td>\n",
       "      <td>US</td>\n",
       "      <td>100</td>\n",
       "      <td>US</td>\n",
       "      <td>S</td>\n",
       "    </tr>\n",
       "    <tr>\n",
       "      <th>2</th>\n",
       "      <td>2023</td>\n",
       "      <td>MI</td>\n",
       "      <td>CT</td>\n",
       "      <td>ML Engineer</td>\n",
       "      <td>25500</td>\n",
       "      <td>US</td>\n",
       "      <td>100</td>\n",
       "      <td>US</td>\n",
       "      <td>S</td>\n",
       "    </tr>\n",
       "    <tr>\n",
       "      <th>3</th>\n",
       "      <td>2023</td>\n",
       "      <td>SE</td>\n",
       "      <td>FT</td>\n",
       "      <td>Data Scientist</td>\n",
       "      <td>175000</td>\n",
       "      <td>CA</td>\n",
       "      <td>100</td>\n",
       "      <td>CA</td>\n",
       "      <td>M</td>\n",
       "    </tr>\n",
       "    <tr>\n",
       "      <th>4</th>\n",
       "      <td>2023</td>\n",
       "      <td>SE</td>\n",
       "      <td>FT</td>\n",
       "      <td>Data Scientist</td>\n",
       "      <td>120000</td>\n",
       "      <td>CA</td>\n",
       "      <td>100</td>\n",
       "      <td>CA</td>\n",
       "      <td>M</td>\n",
       "    </tr>\n",
       "    <tr>\n",
       "      <th>...</th>\n",
       "      <td>...</td>\n",
       "      <td>...</td>\n",
       "      <td>...</td>\n",
       "      <td>...</td>\n",
       "      <td>...</td>\n",
       "      <td>...</td>\n",
       "      <td>...</td>\n",
       "      <td>...</td>\n",
       "      <td>...</td>\n",
       "    </tr>\n",
       "    <tr>\n",
       "      <th>3750</th>\n",
       "      <td>2020</td>\n",
       "      <td>SE</td>\n",
       "      <td>FT</td>\n",
       "      <td>Data Scientist</td>\n",
       "      <td>412000</td>\n",
       "      <td>US</td>\n",
       "      <td>100</td>\n",
       "      <td>US</td>\n",
       "      <td>L</td>\n",
       "    </tr>\n",
       "    <tr>\n",
       "      <th>3751</th>\n",
       "      <td>2021</td>\n",
       "      <td>MI</td>\n",
       "      <td>FT</td>\n",
       "      <td>Principal Data Scientist</td>\n",
       "      <td>151000</td>\n",
       "      <td>US</td>\n",
       "      <td>100</td>\n",
       "      <td>US</td>\n",
       "      <td>L</td>\n",
       "    </tr>\n",
       "    <tr>\n",
       "      <th>3752</th>\n",
       "      <td>2020</td>\n",
       "      <td>EN</td>\n",
       "      <td>FT</td>\n",
       "      <td>Data Scientist</td>\n",
       "      <td>105000</td>\n",
       "      <td>US</td>\n",
       "      <td>100</td>\n",
       "      <td>US</td>\n",
       "      <td>S</td>\n",
       "    </tr>\n",
       "    <tr>\n",
       "      <th>3753</th>\n",
       "      <td>2020</td>\n",
       "      <td>EN</td>\n",
       "      <td>CT</td>\n",
       "      <td>Business Data Analyst</td>\n",
       "      <td>100000</td>\n",
       "      <td>US</td>\n",
       "      <td>100</td>\n",
       "      <td>US</td>\n",
       "      <td>L</td>\n",
       "    </tr>\n",
       "    <tr>\n",
       "      <th>3754</th>\n",
       "      <td>2021</td>\n",
       "      <td>SE</td>\n",
       "      <td>FT</td>\n",
       "      <td>Data Science Manager</td>\n",
       "      <td>94665</td>\n",
       "      <td>IN</td>\n",
       "      <td>50</td>\n",
       "      <td>IN</td>\n",
       "      <td>L</td>\n",
       "    </tr>\n",
       "  </tbody>\n",
       "</table>\n",
       "<p>3755 rows × 9 columns</p>\n",
       "</div>"
      ],
      "text/plain": [
       "      work_year experience_level employment_type                 job_title  \\\n",
       "0          2023               SE              FT  Principal Data Scientist   \n",
       "1          2023               MI              CT               ML Engineer   \n",
       "2          2023               MI              CT               ML Engineer   \n",
       "3          2023               SE              FT            Data Scientist   \n",
       "4          2023               SE              FT            Data Scientist   \n",
       "...         ...              ...             ...                       ...   \n",
       "3750       2020               SE              FT            Data Scientist   \n",
       "3751       2021               MI              FT  Principal Data Scientist   \n",
       "3752       2020               EN              FT            Data Scientist   \n",
       "3753       2020               EN              CT     Business Data Analyst   \n",
       "3754       2021               SE              FT      Data Science Manager   \n",
       "\n",
       "      salary_in_usd employee_residence  remote_ratio company_location  \\\n",
       "0             85847                 ES           100               ES   \n",
       "1             30000                 US           100               US   \n",
       "2             25500                 US           100               US   \n",
       "3            175000                 CA           100               CA   \n",
       "4            120000                 CA           100               CA   \n",
       "...             ...                ...           ...              ...   \n",
       "3750         412000                 US           100               US   \n",
       "3751         151000                 US           100               US   \n",
       "3752         105000                 US           100               US   \n",
       "3753         100000                 US           100               US   \n",
       "3754          94665                 IN            50               IN   \n",
       "\n",
       "     company_size  \n",
       "0               L  \n",
       "1               S  \n",
       "2               S  \n",
       "3               M  \n",
       "4               M  \n",
       "...           ...  \n",
       "3750            L  \n",
       "3751            L  \n",
       "3752            S  \n",
       "3753            L  \n",
       "3754            L  \n",
       "\n",
       "[3755 rows x 9 columns]"
      ]
     },
     "execution_count": 72,
     "metadata": {},
     "output_type": "execute_result"
    }
   ],
   "source": [
    "salaries_df.dropna()"
   ]
  },
  {
   "cell_type": "markdown",
   "id": "d3b7560f-8900-4c5f-bd2d-8469c62fc00b",
   "metadata": {
    "tags": []
   },
   "source": [
    "<h3>Data Cleaning</h3>"
   ]
  },
  {
   "cell_type": "code",
   "execution_count": 73,
   "id": "a198ba18-9bad-4c3e-bda2-5f48e7c2f111",
   "metadata": {
    "tags": []
   },
   "outputs": [
    {
     "data": {
      "text/plain": [
       "array(['Principal Data Scientist', 'ML Engineer', 'Data Scientist',\n",
       "       'Applied Scientist', 'Data Analyst', 'Data Modeler',\n",
       "       'Research Engineer', 'Analytics Engineer',\n",
       "       'Business Intelligence Engineer', 'Machine Learning Engineer',\n",
       "       'Data Strategist', 'Data Engineer', 'Computer Vision Engineer',\n",
       "       'Data Quality Analyst', 'Compliance Data Analyst',\n",
       "       'Data Architect', 'Applied Machine Learning Engineer',\n",
       "       'AI Developer', 'Research Scientist', 'Data Analytics Manager',\n",
       "       'Business Data Analyst', 'Applied Data Scientist',\n",
       "       'Staff Data Analyst', 'ETL Engineer', 'Data DevOps Engineer',\n",
       "       'Head of Data', 'Data Science Manager', 'Data Manager',\n",
       "       'Machine Learning Researcher', 'Big Data Engineer',\n",
       "       'Data Specialist', 'Lead Data Analyst', 'BI Data Engineer',\n",
       "       'Director of Data Science', 'Machine Learning Scientist',\n",
       "       'MLOps Engineer', 'AI Scientist', 'Autonomous Vehicle Technician',\n",
       "       'Applied Machine Learning Scientist', 'Lead Data Scientist',\n",
       "       'Cloud Database Engineer', 'Financial Data Analyst',\n",
       "       'Data Infrastructure Engineer', 'Software Data Engineer',\n",
       "       'AI Programmer', 'Data Operations Engineer', 'BI Developer',\n",
       "       'Data Science Lead', 'Deep Learning Researcher', 'BI Analyst',\n",
       "       'Data Science Consultant', 'Data Analytics Specialist',\n",
       "       'Machine Learning Infrastructure Engineer', 'BI Data Analyst',\n",
       "       'Head of Data Science', 'Insight Analyst',\n",
       "       'Deep Learning Engineer', 'Machine Learning Software Engineer',\n",
       "       'Big Data Architect', 'Product Data Analyst',\n",
       "       'Computer Vision Software Engineer', 'Azure Data Engineer',\n",
       "       'Marketing Data Engineer', 'Data Analytics Lead', 'Data Lead',\n",
       "       'Data Science Engineer', 'Machine Learning Research Engineer',\n",
       "       'NLP Engineer', 'Manager Data Management',\n",
       "       'Machine Learning Developer', '3D Computer Vision Researcher',\n",
       "       'Principal Machine Learning Engineer', 'Data Analytics Engineer',\n",
       "       'Data Analytics Consultant', 'Data Management Specialist',\n",
       "       'Data Science Tech Lead', 'Data Scientist Lead',\n",
       "       'Cloud Data Engineer', 'Data Operations Analyst',\n",
       "       'Marketing Data Analyst', 'Power BI Developer',\n",
       "       'Product Data Scientist', 'Principal Data Architect',\n",
       "       'Machine Learning Manager', 'Lead Machine Learning Engineer',\n",
       "       'ETL Developer', 'Cloud Data Architect', 'Lead Data Engineer',\n",
       "       'Head of Machine Learning', 'Principal Data Analyst',\n",
       "       'Principal Data Engineer', 'Staff Data Scientist',\n",
       "       'Finance Data Analyst'], dtype=object)"
      ]
     },
     "execution_count": 73,
     "metadata": {},
     "output_type": "execute_result"
    }
   ],
   "source": [
    "#retrieving unique job titles\n",
    "job_title_unique=salaries_df['job_title'].unique()\n",
    "job_title_unique"
   ]
  },
  {
   "cell_type": "code",
   "execution_count": 74,
   "id": "760b55aa-e427-4ebb-ab7f-370372997987",
   "metadata": {
    "tags": []
   },
   "outputs": [
    {
     "data": {
      "text/plain": [
       "array(['Data Science Manager', 'Director of Data Science',\n",
       "       'Data Science Lead', 'Data Science Consultant',\n",
       "       'Head of Data Science', 'Data Science Engineer',\n",
       "       'Data Science Tech Lead'], dtype=object)"
      ]
     },
     "execution_count": 74,
     "metadata": {},
     "output_type": "execute_result"
    }
   ],
   "source": [
    "#retrieving job titles with data science in it\n",
    "datascience_job_df = salaries_df[salaries_df['job_title'].str.contains('data science', case=False)]['job_title']\n",
    "datascience_job_df.unique()"
   ]
  },
  {
   "cell_type": "code",
   "execution_count": 75,
   "id": "ac35576b-4bac-4a90-8e76-871675498cd5",
   "metadata": {
    "tags": []
   },
   "outputs": [
    {
     "data": {
      "text/plain": [
       "array(['Data Analytics Manager', 'Data Science Manager', 'Data Manager',\n",
       "       'Manager Data Management', 'Machine Learning Manager'],\n",
       "      dtype=object)"
      ]
     },
     "execution_count": 75,
     "metadata": {},
     "output_type": "execute_result"
    }
   ],
   "source": [
    "#retrieving job titles with data science in it\n",
    "datascience_job_df = salaries_df[salaries_df['job_title'].str.contains('manager', case=False)]['job_title']\n",
    "datascience_job_df.unique()"
   ]
  },
  {
   "cell_type": "code",
   "execution_count": 76,
   "id": "9ab538b2-83f8-44d0-bce8-5c8eae202d15",
   "metadata": {
    "tags": []
   },
   "outputs": [
    {
     "data": {
      "text/plain": [
       "array(['Principal Data Scientist', 'Data Scientist',\n",
       "       'Applied Data Scientist', 'Lead Data Scientist',\n",
       "       'Data Scientist Lead', 'Product Data Scientist',\n",
       "       'Staff Data Scientist'], dtype=object)"
      ]
     },
     "execution_count": 76,
     "metadata": {},
     "output_type": "execute_result"
    }
   ],
   "source": [
    "#retrieving job titles with data scientist in it\n",
    "datascientist_job_df = salaries_df[salaries_df['job_title'].str.contains('data scientist', case=False)]['job_title']\n",
    "datascientist_job_df.unique()"
   ]
  },
  {
   "cell_type": "code",
   "execution_count": 77,
   "id": "06ca5d21-6bfc-4a8c-8ec9-f668524c5e0b",
   "metadata": {
    "tags": []
   },
   "outputs": [],
   "source": [
    "#replacing sub groups of data scientist job titles with Data Scientist\n",
    "datascientist_job_titles=['Principal Data Scientist','Applied Data Scientist','Data Scientist Lead','Product Data Scientist',\n",
    "                          'Staff Data Scientist','Lead Data Scientist']\n",
    "salaries_df['job_title']=salaries_df['job_title'].replace(datascientist_job_titles,'Data Scientist')"
   ]
  },
  {
   "cell_type": "code",
   "execution_count": 78,
   "id": "bc23903b-bfc9-4394-a73c-9aab5b61256d",
   "metadata": {
    "tags": []
   },
   "outputs": [
    {
     "data": {
      "text/plain": [
       "array(['Data Analyst', 'Compliance Data Analyst', 'Business Data Analyst',\n",
       "       'Staff Data Analyst', 'Lead Data Analyst',\n",
       "       'Financial Data Analyst', 'BI Data Analyst',\n",
       "       'Product Data Analyst', 'Marketing Data Analyst',\n",
       "       'Principal Data Analyst', 'Finance Data Analyst'], dtype=object)"
      ]
     },
     "execution_count": 78,
     "metadata": {},
     "output_type": "execute_result"
    }
   ],
   "source": [
    "#retrieving job titles with data analyst in it\n",
    "dataanalyst_job_df = salaries_df[salaries_df['job_title'].str.contains('data analyst', case=False)]['job_title']\n",
    "dataanalyst_job_df.unique()"
   ]
  },
  {
   "cell_type": "code",
   "execution_count": 79,
   "id": "edd66904-b800-49f1-9d25-fb95056fa6a9",
   "metadata": {
    "tags": []
   },
   "outputs": [],
   "source": [
    "#replacing sub groups of data analyst job titles with Data Analyst\n",
    "analyst_job_titles=['Compliance Data Analyst','BI Data Analyst','Business Data Analyst','Staff Data Analyst','Financial Data Analyst'\n",
    "            ,'Finance Data Analyst','Lead Data Analyst','Product Data Analyst','Marketing Data Analyst','Principal Data Analyst']\n",
    "salaries_df['job_title']=salaries_df['job_title'].replace(analyst_job_titles,'Data Analyst')"
   ]
  },
  {
   "cell_type": "code",
   "execution_count": 80,
   "id": "18aa88d5-25df-4b58-baa5-befaa6d6d62c",
   "metadata": {
    "tags": []
   },
   "outputs": [
    {
     "data": {
      "text/plain": [
       "array(['ML Engineer', 'Machine Learning Engineer',\n",
       "       'Applied Machine Learning Engineer', 'Machine Learning Researcher',\n",
       "       'Machine Learning Scientist', 'MLOps Engineer',\n",
       "       'Applied Machine Learning Scientist',\n",
       "       'Machine Learning Infrastructure Engineer',\n",
       "       'Machine Learning Software Engineer',\n",
       "       'Machine Learning Research Engineer', 'Machine Learning Developer',\n",
       "       'Principal Machine Learning Engineer', 'Machine Learning Manager',\n",
       "       'Lead Machine Learning Engineer', 'Head of Machine Learning'],\n",
       "      dtype=object)"
      ]
     },
     "execution_count": 80,
     "metadata": {},
     "output_type": "execute_result"
    }
   ],
   "source": [
    "#retrieving job titles with machine learning or ml in it\n",
    "data_machinelearning_job_df = salaries_df[salaries_df['job_title'].str.contains('machine learning|ml', case=False)]['job_title']\n",
    "data_machinelearning_job_df.unique()"
   ]
  },
  {
   "cell_type": "code",
   "execution_count": 81,
   "id": "5d4a4a22-566f-4d83-a743-93ddfb5c4d1a",
   "metadata": {
    "tags": []
   },
   "outputs": [],
   "source": [
    "#replacing sub_groups of Machine Learning Engineer with Machine Learning Engineer\n",
    "machine_learning_job_titles=['ML Engineer', 'Machine Learning Software Engineer',\n",
    "                             'Machine Learning Infrastructure Engineer','Principal Machine Learning Engineer',\n",
    "                             'Lead Machine Learning Engineer', 'Machine Learning Research Engineer',\n",
    "                             'Applied Machine Learning Engineer']\n",
    "salaries_df['job_title']=salaries_df['job_title'].replace(machine_learning_job_titles,'Machine Learning Engineer')"
   ]
  },
  {
   "cell_type": "code",
   "execution_count": 82,
   "id": "3144dd5e-d9f9-4b1a-872b-9c832ee35142",
   "metadata": {
    "tags": []
   },
   "outputs": [
    {
     "data": {
      "text/plain": [
       "array(['Data Engineer', 'Big Data Engineer', 'BI Data Engineer',\n",
       "       'Software Data Engineer', 'Azure Data Engineer',\n",
       "       'Marketing Data Engineer', 'Cloud Data Engineer',\n",
       "       'Lead Data Engineer', 'Principal Data Engineer'], dtype=object)"
      ]
     },
     "execution_count": 82,
     "metadata": {},
     "output_type": "execute_result"
    }
   ],
   "source": [
    "#retrieving job titles with data engineer in it\n",
    "data_job_df = salaries_df[salaries_df['job_title'].str.contains('data engineer', case=False)]['job_title']\n",
    "data_job_df.unique()"
   ]
  },
  {
   "cell_type": "code",
   "execution_count": 83,
   "id": "bbb6d2d3-08e7-42e9-bdb5-a6ff2832bc11",
   "metadata": {
    "tags": []
   },
   "outputs": [],
   "source": [
    "#replacing sub_groups of Data Engineer with Data Engineer\n",
    "data_engineer_job_titles=['Big Data Engineer', 'Software Data Engineer', 'Azure Data Engineer', 'Cloud Data Engineer'\n",
    "            , 'Marketing Data Engineer', 'Lead Data Engineer', 'Principal Data Engineer']\n",
    "salaries_df=salaries_df.replace(data_engineer_job_titles,'Data Engineer')"
   ]
  },
  {
   "cell_type": "code",
   "execution_count": 84,
   "id": "88fb1b19-11e5-4a98-9401-88a62cfc222d",
   "metadata": {
    "tags": []
   },
   "outputs": [
    {
     "data": {
      "text/plain": [
       "array(['Business Intelligence Engineer', 'BI Data Engineer',\n",
       "       'BI Developer', 'BI Analyst', 'Big Data Architect',\n",
       "       'Power BI Developer'], dtype=object)"
      ]
     },
     "execution_count": 84,
     "metadata": {},
     "output_type": "execute_result"
    }
   ],
   "source": [
    "#retrieving job titles with bi or business intelligence in it\n",
    "data_job_df = salaries_df[salaries_df['job_title'].str.contains('bi|business intelligence', case=False)]['job_title']\n",
    "data_job_df.unique()"
   ]
  },
  {
   "cell_type": "code",
   "execution_count": 85,
   "id": "e96f8997-141b-4290-81e8-8f25ccd12e9a",
   "metadata": {
    "tags": []
   },
   "outputs": [
    {
     "data": {
      "text/plain": [
       "array(['AI Developer', 'BI Developer', 'Machine Learning Developer',\n",
       "       'Power BI Developer', 'ETL Developer'], dtype=object)"
      ]
     },
     "execution_count": 85,
     "metadata": {},
     "output_type": "execute_result"
    }
   ],
   "source": [
    "developer_job_df = salaries_df[salaries_df['job_title'].str.contains('developer', case=False)]['job_title']\n",
    "developer_job_df.unique()"
   ]
  },
  {
   "cell_type": "code",
   "execution_count": 86,
   "id": "47e1cfca-50f5-4c39-bd18-c2f48d832462",
   "metadata": {
    "tags": []
   },
   "outputs": [
    {
     "data": {
      "text/plain": [
       "array(['Data Architect', 'Big Data Architect', 'Principal Data Architect',\n",
       "       'Cloud Data Architect'], dtype=object)"
      ]
     },
     "execution_count": 86,
     "metadata": {},
     "output_type": "execute_result"
    }
   ],
   "source": [
    "#retrieving job titles with data architect in it\n",
    "architect_job_df = salaries_df[salaries_df['job_title'].str.contains('data architect', case=False)]['job_title']\n",
    "architect_job_df.unique()"
   ]
  },
  {
   "cell_type": "code",
   "execution_count": 87,
   "id": "beebec9b-5c6b-428a-a371-b70dc3b7c1d2",
   "metadata": {
    "tags": []
   },
   "outputs": [],
   "source": [
    "#replacing sub_groups of Data Architect with Data Architect\n",
    "data_architect_job_titles=['Big Data Architect','Principal Data Architect','Cloud Data Architect']\n",
    "salaries_df['job_title']=salaries_df['job_title'].replace(data_architect_job_titles,'Data Architect')"
   ]
  },
  {
   "cell_type": "code",
   "execution_count": 88,
   "id": "bd9b4cf5-03cd-4a62-8e76-23d0554958e3",
   "metadata": {
    "tags": []
   },
   "outputs": [],
   "source": [
    "#replacing other inconsistent data\n",
    "salaries_df['job_title']=salaries_df['job_title'].replace({'Data Science Tech Lead':'Data Science Lead',\n",
    "                                                         'Manager Data Management':'Data Manager',\n",
    "                                                          'Power BI Developer':'BI Developer',\n",
    "                                                          'BI Data Engineer':'Business Intelligence Engineer',\n",
    "                                                          'Applied Machine Learning Scientist':'Machine Learning Scientist'})"
   ]
  },
  {
   "cell_type": "code",
   "execution_count": 89,
   "id": "d0668286-8bf7-4689-9c98-2204167331ce",
   "metadata": {
    "tags": []
   },
   "outputs": [
    {
     "data": {
      "text/plain": [
       "array(['Data Scientist', 'Machine Learning Engineer', 'Applied Scientist',\n",
       "       'Data Analyst', 'Data Modeler', 'Research Engineer',\n",
       "       'Analytics Engineer', 'Business Intelligence Engineer',\n",
       "       'Data Strategist', 'Data Engineer', 'Computer Vision Engineer',\n",
       "       'Data Quality Analyst', 'Data Architect', 'AI Developer',\n",
       "       'Research Scientist', 'Data Analytics Manager', 'ETL Engineer',\n",
       "       'Data DevOps Engineer', 'Head of Data', 'Data Science Manager',\n",
       "       'Data Manager', 'Machine Learning Researcher', 'Data Specialist',\n",
       "       'Director of Data Science', 'Machine Learning Scientist',\n",
       "       'MLOps Engineer', 'AI Scientist', 'Autonomous Vehicle Technician',\n",
       "       'Cloud Database Engineer', 'Data Infrastructure Engineer',\n",
       "       'AI Programmer', 'Data Operations Engineer', 'BI Developer',\n",
       "       'Data Science Lead', 'Deep Learning Researcher', 'BI Analyst',\n",
       "       'Data Science Consultant', 'Data Analytics Specialist',\n",
       "       'Head of Data Science', 'Insight Analyst',\n",
       "       'Deep Learning Engineer', 'Computer Vision Software Engineer',\n",
       "       'Data Analytics Lead', 'Data Lead', 'Data Science Engineer',\n",
       "       'NLP Engineer', 'Machine Learning Developer',\n",
       "       '3D Computer Vision Researcher', 'Data Analytics Engineer',\n",
       "       'Data Analytics Consultant', 'Data Management Specialist',\n",
       "       'Data Operations Analyst', 'Machine Learning Manager',\n",
       "       'ETL Developer', 'Head of Machine Learning'], dtype=object)"
      ]
     },
     "execution_count": 89,
     "metadata": {},
     "output_type": "execute_result"
    }
   ],
   "source": [
    "#retrieving unique job titles after cleaning\n",
    "job_title_unique=salaries_df['job_title'].unique()\n",
    "job_title_unique"
   ]
  },
  {
   "cell_type": "markdown",
   "id": "1e72ce7f-f515-47fb-91e8-ee10b9b26182",
   "metadata": {},
   "source": [
    "<h3>Write a python program to check duplicates value in the dataframe.</h3>"
   ]
  },
  {
   "cell_type": "code",
   "execution_count": 90,
   "id": "b6326e4f-17a3-4eb5-b9a0-5f64907ed060",
   "metadata": {
    "tags": []
   },
   "outputs": [
    {
     "data": {
      "text/plain": [
       "1183"
      ]
     },
     "execution_count": 90,
     "metadata": {},
     "output_type": "execute_result"
    }
   ],
   "source": [
    "#checking count of duplicate values in the dataframe\n",
    "duplicate_values_count = salaries_df[salaries_df.duplicated()].shape[0]\n",
    "duplicate_values_count"
   ]
  },
  {
   "cell_type": "code",
   "execution_count": 91,
   "id": "d1ede271-5597-4122-a973-c8877dcb4220",
   "metadata": {
    "tags": []
   },
   "outputs": [],
   "source": [
    "#removing duplicate values from the dataframe\n",
    "salaries_df=salaries_df.drop_duplicates(keep='first')"
   ]
  },
  {
   "cell_type": "code",
   "execution_count": 92,
   "id": "9eab6a54-f043-4a90-9a4f-88239dcf0ab5",
   "metadata": {
    "tags": []
   },
   "outputs": [
    {
     "data": {
      "text/plain": [
       "0"
      ]
     },
     "execution_count": 92,
     "metadata": {},
     "output_type": "execute_result"
    }
   ],
   "source": [
    "#checking count of duplicate values in the dataframe after removing the duplicated values\n",
    "duplicate_values_count = salaries_df[salaries_df.duplicated()].shape[0]\n",
    "duplicate_values_count"
   ]
  },
  {
   "cell_type": "markdown",
   "id": "2a3a9cc1-21d7-4fe1-880b-0b089575ada2",
   "metadata": {
    "tags": []
   },
   "source": [
    "<h3>Write a python program to see the unique values from all the columns in the dataframe.</h3>"
   ]
  },
  {
   "cell_type": "code",
   "execution_count": 93,
   "id": "f6d65dcc-7e7e-476e-9837-29ee035b6203",
   "metadata": {
    "tags": []
   },
   "outputs": [
    {
     "name": "stdout",
     "output_type": "stream",
     "text": [
      "'work_year': [2023 2022 2020 2021]\n",
      "'experience_level': ['SE' 'MI' 'EN' 'EX']\n",
      "'employment_type': ['FT' 'CT' 'FL' 'PT']\n",
      "'job_title': ['Data Scientist' 'Machine Learning Engineer' 'Applied Scientist'\n",
      " 'Data Analyst' 'Data Modeler' 'Research Engineer' 'Analytics Engineer'\n",
      " 'Business Intelligence Engineer' 'Data Strategist' 'Data Engineer'\n",
      " 'Computer Vision Engineer' 'Data Quality Analyst' 'Data Architect'\n",
      " 'AI Developer' 'Research Scientist' 'Data Analytics Manager'\n",
      " 'ETL Engineer' 'Data DevOps Engineer' 'Head of Data'\n",
      " 'Data Science Manager' 'Data Manager' 'Machine Learning Researcher'\n",
      " 'Data Specialist' 'Director of Data Science' 'Machine Learning Scientist'\n",
      " 'MLOps Engineer' 'AI Scientist' 'Autonomous Vehicle Technician'\n",
      " 'Cloud Database Engineer' 'Data Infrastructure Engineer' 'AI Programmer'\n",
      " 'Data Operations Engineer' 'BI Developer' 'Data Science Lead'\n",
      " 'Deep Learning Researcher' 'BI Analyst' 'Data Science Consultant'\n",
      " 'Data Analytics Specialist' 'Head of Data Science' 'Insight Analyst'\n",
      " 'Deep Learning Engineer' 'Computer Vision Software Engineer'\n",
      " 'Data Analytics Lead' 'Data Lead' 'Data Science Engineer' 'NLP Engineer'\n",
      " 'Machine Learning Developer' '3D Computer Vision Researcher'\n",
      " 'Data Analytics Engineer' 'Data Analytics Consultant'\n",
      " 'Data Management Specialist' 'Data Operations Analyst'\n",
      " 'Machine Learning Manager' 'ETL Developer' 'Head of Machine Learning']\n",
      "'salary_in_usd': [ 85847  30000  25500 ...  28369 412000  94665]\n",
      "'employee_residence': ['ES' 'US' 'CA' 'DE' 'GB' 'NG' 'IN' 'HK' 'PT' 'NL' 'CH' 'CF' 'FR' 'AU'\n",
      " 'FI' 'UA' 'IE' 'IL' 'GH' 'AT' 'CO' 'SG' 'SE' 'SI' 'MX' 'UZ' 'BR' 'TH'\n",
      " 'HR' 'PL' 'KW' 'VN' 'CY' 'AR' 'AM' 'BA' 'KE' 'GR' 'MK' 'LV' 'RO' 'PK'\n",
      " 'IT' 'MA' 'LT' 'BE' 'AS' 'IR' 'HU' 'SK' 'CN' 'CZ' 'CR' 'TR' 'CL' 'PR'\n",
      " 'DK' 'BO' 'PH' 'DO' 'EG' 'ID' 'AE' 'MY' 'JP' 'EE' 'HN' 'TN' 'RU' 'DZ'\n",
      " 'IQ' 'BG' 'JE' 'RS' 'NZ' 'MD' 'LU' 'MT']\n",
      "'remote_ratio': [100   0  50]\n",
      "'company_location': ['ES' 'US' 'CA' 'DE' 'GB' 'NG' 'IN' 'HK' 'NL' 'CH' 'CF' 'FR' 'FI' 'UA'\n",
      " 'IE' 'IL' 'GH' 'CO' 'SG' 'AU' 'SE' 'SI' 'MX' 'BR' 'PT' 'RU' 'TH' 'HR'\n",
      " 'VN' 'EE' 'AM' 'BA' 'KE' 'GR' 'MK' 'LV' 'RO' 'PK' 'IT' 'MA' 'PL' 'AL'\n",
      " 'AR' 'LT' 'AS' 'CR' 'IR' 'BS' 'HU' 'AT' 'SK' 'CZ' 'TR' 'PR' 'DK' 'BO'\n",
      " 'PH' 'BE' 'ID' 'EG' 'AE' 'LU' 'MY' 'HN' 'JP' 'DZ' 'IQ' 'CN' 'NZ' 'CL'\n",
      " 'MD' 'MT']\n",
      "'company_size': ['L' 'S' 'M']\n"
     ]
    }
   ],
   "source": [
    "#retrieving unique values from all columns\n",
    "for col in salaries_df.columns:\n",
    "    unique_values = salaries_df[col].unique()\n",
    "    print(f\"'{col}': {unique_values}\")"
   ]
  },
  {
   "cell_type": "markdown",
   "id": "3af895a0-32db-48cf-a6b1-2e0d27a0f469",
   "metadata": {
    "tags": []
   },
   "source": [
    "<h3>Rename the experience level columns.(SE – Senior Level/Expert,MI – Medium Level/Intermediate,EN – Entry Level,EX – Executive Level)</h3>"
   ]
  },
  {
   "cell_type": "code",
   "execution_count": 94,
   "id": "fddc857b-7704-4eb6-a993-92259345fa32",
   "metadata": {
    "tags": []
   },
   "outputs": [],
   "source": [
    "#renaming experience levels\n",
    "salaries_df['experience_level']=salaries_df['experience_level'].replace({'SE':'Senior Level/Expert',\n",
    "                                                                         'MI':'Medium Level/Intermediate',\n",
    "                                                                         'EN':'Entry Level',\n",
    "                                                                         'EX':'Executive Level'})"
   ]
  },
  {
   "cell_type": "code",
   "execution_count": 95,
   "id": "aa166336-a45b-4575-918b-b42e64ce7df5",
   "metadata": {
    "tags": []
   },
   "outputs": [
    {
     "data": {
      "text/html": [
       "<div>\n",
       "<style scoped>\n",
       "    .dataframe tbody tr th:only-of-type {\n",
       "        vertical-align: middle;\n",
       "    }\n",
       "\n",
       "    .dataframe tbody tr th {\n",
       "        vertical-align: top;\n",
       "    }\n",
       "\n",
       "    .dataframe thead th {\n",
       "        text-align: right;\n",
       "    }\n",
       "</style>\n",
       "<table border=\"1\" class=\"dataframe\">\n",
       "  <thead>\n",
       "    <tr style=\"text-align: right;\">\n",
       "      <th></th>\n",
       "      <th>work_year</th>\n",
       "      <th>experience_level</th>\n",
       "      <th>employment_type</th>\n",
       "      <th>job_title</th>\n",
       "      <th>salary_in_usd</th>\n",
       "      <th>employee_residence</th>\n",
       "      <th>remote_ratio</th>\n",
       "      <th>company_location</th>\n",
       "      <th>company_size</th>\n",
       "    </tr>\n",
       "  </thead>\n",
       "  <tbody>\n",
       "    <tr>\n",
       "      <th>0</th>\n",
       "      <td>2023</td>\n",
       "      <td>Senior Level/Expert</td>\n",
       "      <td>FT</td>\n",
       "      <td>Data Scientist</td>\n",
       "      <td>85847</td>\n",
       "      <td>ES</td>\n",
       "      <td>100</td>\n",
       "      <td>ES</td>\n",
       "      <td>L</td>\n",
       "    </tr>\n",
       "    <tr>\n",
       "      <th>1</th>\n",
       "      <td>2023</td>\n",
       "      <td>Medium Level/Intermediate</td>\n",
       "      <td>CT</td>\n",
       "      <td>Machine Learning Engineer</td>\n",
       "      <td>30000</td>\n",
       "      <td>US</td>\n",
       "      <td>100</td>\n",
       "      <td>US</td>\n",
       "      <td>S</td>\n",
       "    </tr>\n",
       "    <tr>\n",
       "      <th>2</th>\n",
       "      <td>2023</td>\n",
       "      <td>Medium Level/Intermediate</td>\n",
       "      <td>CT</td>\n",
       "      <td>Machine Learning Engineer</td>\n",
       "      <td>25500</td>\n",
       "      <td>US</td>\n",
       "      <td>100</td>\n",
       "      <td>US</td>\n",
       "      <td>S</td>\n",
       "    </tr>\n",
       "    <tr>\n",
       "      <th>3</th>\n",
       "      <td>2023</td>\n",
       "      <td>Senior Level/Expert</td>\n",
       "      <td>FT</td>\n",
       "      <td>Data Scientist</td>\n",
       "      <td>175000</td>\n",
       "      <td>CA</td>\n",
       "      <td>100</td>\n",
       "      <td>CA</td>\n",
       "      <td>M</td>\n",
       "    </tr>\n",
       "    <tr>\n",
       "      <th>4</th>\n",
       "      <td>2023</td>\n",
       "      <td>Senior Level/Expert</td>\n",
       "      <td>FT</td>\n",
       "      <td>Data Scientist</td>\n",
       "      <td>120000</td>\n",
       "      <td>CA</td>\n",
       "      <td>100</td>\n",
       "      <td>CA</td>\n",
       "      <td>M</td>\n",
       "    </tr>\n",
       "    <tr>\n",
       "      <th>...</th>\n",
       "      <td>...</td>\n",
       "      <td>...</td>\n",
       "      <td>...</td>\n",
       "      <td>...</td>\n",
       "      <td>...</td>\n",
       "      <td>...</td>\n",
       "      <td>...</td>\n",
       "      <td>...</td>\n",
       "      <td>...</td>\n",
       "    </tr>\n",
       "    <tr>\n",
       "      <th>3750</th>\n",
       "      <td>2020</td>\n",
       "      <td>Senior Level/Expert</td>\n",
       "      <td>FT</td>\n",
       "      <td>Data Scientist</td>\n",
       "      <td>412000</td>\n",
       "      <td>US</td>\n",
       "      <td>100</td>\n",
       "      <td>US</td>\n",
       "      <td>L</td>\n",
       "    </tr>\n",
       "    <tr>\n",
       "      <th>3751</th>\n",
       "      <td>2021</td>\n",
       "      <td>Medium Level/Intermediate</td>\n",
       "      <td>FT</td>\n",
       "      <td>Data Scientist</td>\n",
       "      <td>151000</td>\n",
       "      <td>US</td>\n",
       "      <td>100</td>\n",
       "      <td>US</td>\n",
       "      <td>L</td>\n",
       "    </tr>\n",
       "    <tr>\n",
       "      <th>3752</th>\n",
       "      <td>2020</td>\n",
       "      <td>Entry Level</td>\n",
       "      <td>FT</td>\n",
       "      <td>Data Scientist</td>\n",
       "      <td>105000</td>\n",
       "      <td>US</td>\n",
       "      <td>100</td>\n",
       "      <td>US</td>\n",
       "      <td>S</td>\n",
       "    </tr>\n",
       "    <tr>\n",
       "      <th>3753</th>\n",
       "      <td>2020</td>\n",
       "      <td>Entry Level</td>\n",
       "      <td>CT</td>\n",
       "      <td>Data Analyst</td>\n",
       "      <td>100000</td>\n",
       "      <td>US</td>\n",
       "      <td>100</td>\n",
       "      <td>US</td>\n",
       "      <td>L</td>\n",
       "    </tr>\n",
       "    <tr>\n",
       "      <th>3754</th>\n",
       "      <td>2021</td>\n",
       "      <td>Senior Level/Expert</td>\n",
       "      <td>FT</td>\n",
       "      <td>Data Science Manager</td>\n",
       "      <td>94665</td>\n",
       "      <td>IN</td>\n",
       "      <td>50</td>\n",
       "      <td>IN</td>\n",
       "      <td>L</td>\n",
       "    </tr>\n",
       "  </tbody>\n",
       "</table>\n",
       "<p>2572 rows × 9 columns</p>\n",
       "</div>"
      ],
      "text/plain": [
       "      work_year           experience_level employment_type  \\\n",
       "0          2023        Senior Level/Expert              FT   \n",
       "1          2023  Medium Level/Intermediate              CT   \n",
       "2          2023  Medium Level/Intermediate              CT   \n",
       "3          2023        Senior Level/Expert              FT   \n",
       "4          2023        Senior Level/Expert              FT   \n",
       "...         ...                        ...             ...   \n",
       "3750       2020        Senior Level/Expert              FT   \n",
       "3751       2021  Medium Level/Intermediate              FT   \n",
       "3752       2020                Entry Level              FT   \n",
       "3753       2020                Entry Level              CT   \n",
       "3754       2021        Senior Level/Expert              FT   \n",
       "\n",
       "                      job_title  salary_in_usd employee_residence  \\\n",
       "0                Data Scientist          85847                 ES   \n",
       "1     Machine Learning Engineer          30000                 US   \n",
       "2     Machine Learning Engineer          25500                 US   \n",
       "3                Data Scientist         175000                 CA   \n",
       "4                Data Scientist         120000                 CA   \n",
       "...                         ...            ...                ...   \n",
       "3750             Data Scientist         412000                 US   \n",
       "3751             Data Scientist         151000                 US   \n",
       "3752             Data Scientist         105000                 US   \n",
       "3753               Data Analyst         100000                 US   \n",
       "3754       Data Science Manager          94665                 IN   \n",
       "\n",
       "      remote_ratio company_location company_size  \n",
       "0              100               ES            L  \n",
       "1              100               US            S  \n",
       "2              100               US            S  \n",
       "3              100               CA            M  \n",
       "4              100               CA            M  \n",
       "...            ...              ...          ...  \n",
       "3750           100               US            L  \n",
       "3751           100               US            L  \n",
       "3752           100               US            S  \n",
       "3753           100               US            L  \n",
       "3754            50               IN            L  \n",
       "\n",
       "[2572 rows x 9 columns]"
      ]
     },
     "execution_count": 95,
     "metadata": {},
     "output_type": "execute_result"
    }
   ],
   "source": [
    "salaries_df"
   ]
  },
  {
   "cell_type": "markdown",
   "id": "ea8fe7b2-92d0-41de-9fc6-0c0457a89e36",
   "metadata": {},
   "source": [
    "<h1>Data Analysis</h1>"
   ]
  },
  {
   "cell_type": "markdown",
   "id": "2eb3de8e-f12d-4f62-881e-6a0328491335",
   "metadata": {},
   "source": [
    "<h3>Write a Python program to show summary statistics of sum, mean, standard deviation, skewness, and kurtosis of any chosen variable.</h3>"
   ]
  },
  {
   "cell_type": "code",
   "execution_count": 96,
   "id": "55cb521e-3e88-4e95-8bd4-6da2e8477849",
   "metadata": {
    "tags": []
   },
   "outputs": [
    {
     "name": "stdout",
     "output_type": "stream",
     "text": [
      "Mean: 133192.71\n",
      "Sum: 342571651\n",
      "Standard Deviation: 67150.079\n",
      "Skewness: 0.625\n",
      "Kurtosis: 0.836\n"
     ]
    }
   ],
   "source": [
    "#calculating mean,sum,std,skew and kurtosis of salary_in_usd\n",
    "mean=round(salaries_df['salary_in_usd'].mean(),3)\n",
    "sum=round(salaries_df['salary_in_usd'].sum(),3)\n",
    "std=round(salaries_df['salary_in_usd'].std(),3)\n",
    "skew=round(salaries_df['salary_in_usd'].skew(),3)\n",
    "kurtosis=round(salaries_df['salary_in_usd'].kurtosis(),3)\n",
    "print(f\"Mean: {mean}\\nSum: {sum}\\nStandard Deviation: {std}\\nSkewness: {skew}\\nKurtosis: {kurtosis}\")"
   ]
  },
  {
   "cell_type": "markdown",
   "id": "50d027d8-7a3a-4852-8a48-45d7abdca9fd",
   "metadata": {
    "tags": []
   },
   "source": [
    "<h3>Write a Python program to calculate and show correlation of all variables.</h3> "
   ]
  },
  {
   "cell_type": "code",
   "execution_count": 97,
   "id": "276fa554-ba57-43a2-8838-8b4a45f01be8",
   "metadata": {
    "tags": []
   },
   "outputs": [
    {
     "data": {
      "text/html": [
       "<div>\n",
       "<style scoped>\n",
       "    .dataframe tbody tr th:only-of-type {\n",
       "        vertical-align: middle;\n",
       "    }\n",
       "\n",
       "    .dataframe tbody tr th {\n",
       "        vertical-align: top;\n",
       "    }\n",
       "\n",
       "    .dataframe thead th {\n",
       "        text-align: right;\n",
       "    }\n",
       "</style>\n",
       "<table border=\"1\" class=\"dataframe\">\n",
       "  <thead>\n",
       "    <tr style=\"text-align: right;\">\n",
       "      <th></th>\n",
       "      <th>work_year</th>\n",
       "      <th>salary_in_usd</th>\n",
       "      <th>remote_ratio</th>\n",
       "    </tr>\n",
       "  </thead>\n",
       "  <tbody>\n",
       "    <tr>\n",
       "      <th>work_year</th>\n",
       "      <td>1.000000</td>\n",
       "      <td>0.235788</td>\n",
       "      <td>-0.216353</td>\n",
       "    </tr>\n",
       "    <tr>\n",
       "      <th>salary_in_usd</th>\n",
       "      <td>0.235788</td>\n",
       "      <td>1.000000</td>\n",
       "      <td>-0.083047</td>\n",
       "    </tr>\n",
       "    <tr>\n",
       "      <th>remote_ratio</th>\n",
       "      <td>-0.216353</td>\n",
       "      <td>-0.083047</td>\n",
       "      <td>1.000000</td>\n",
       "    </tr>\n",
       "  </tbody>\n",
       "</table>\n",
       "</div>"
      ],
      "text/plain": [
       "               work_year  salary_in_usd  remote_ratio\n",
       "work_year       1.000000       0.235788     -0.216353\n",
       "salary_in_usd   0.235788       1.000000     -0.083047\n",
       "remote_ratio   -0.216353      -0.083047      1.000000"
      ]
     },
     "execution_count": 97,
     "metadata": {},
     "output_type": "execute_result"
    }
   ],
   "source": [
    "#calculating correlation of all variables\n",
    "salaries_df.corr(numeric_only=True)"
   ]
  },
  {
   "cell_type": "markdown",
   "id": "4748da3c-eaa8-43e8-8168-660825cbb24b",
   "metadata": {
    "tags": []
   },
   "source": [
    "<h1>Data Exploration</h1>"
   ]
  },
  {
   "cell_type": "markdown",
   "id": "119c6690-b01b-4213-9bb0-62cdcd65e33a",
   "metadata": {},
   "source": [
    "<h3>Write a python program to find out top 15 jobs. Make a bar graph as well.</h3>         "
   ]
  },
  {
   "cell_type": "code",
   "execution_count": 98,
   "id": "a8ef9198-0d70-4ab2-8b6f-223a48b49c88",
   "metadata": {
    "tags": []
   },
   "outputs": [
    {
     "data": {
      "text/plain": [
       "job_title\n",
       "Data Engineer                 624\n",
       "Data Scientist                569\n",
       "Data Analyst                  446\n",
       "Machine Learning Engineer     259\n",
       "Analytics Engineer             91\n",
       "Data Architect                 68\n",
       "Research Scientist             65\n",
       "Data Science Manager           52\n",
       "Machine Learning Scientist     38\n",
       "Research Engineer              33\n",
       "Applied Scientist              31\n",
       "Data Manager                   24\n",
       "Data Science Consultant        23\n",
       "Computer Vision Engineer       18\n",
       "Data Analytics Manager         18\n",
       "Name: count, dtype: int64"
      ]
     },
     "execution_count": 98,
     "metadata": {},
     "output_type": "execute_result"
    }
   ],
   "source": [
    "#retrieving top 15 jobs on the basis of value counts\n",
    "top_15_jobs = salaries_df['job_title'].value_counts().head(15)\n",
    "top_15_jobs"
   ]
  },
  {
   "cell_type": "code",
   "execution_count": 99,
   "id": "734c73f0-3cc3-4936-a92d-0fd3508dd508",
   "metadata": {
    "tags": []
   },
   "outputs": [
    {
     "data": {
      "image/png": "[encoded data removed]",
      "text/plain": [
       "<Figure size 900x500 with 1 Axes>"
      ]
     },
     "metadata": {},
     "output_type": "display_data"
    }
   ],
   "source": [
    "# making a bar graph of top 15 jobs with their value count\n",
    "plt.figure(figsize=(9, 5))\n",
    "plt.bar(top_15_jobs.index, top_15_jobs.values, color='skyblue')\n",
    "plt.title('Top 15 Jobs')\n",
    "plt.xlabel('Job Title')\n",
    "plt.ylabel('No. Of Employee working in the field')\n",
    "plt.xticks(rotation=45, ha='right')\n",
    "plt.tight_layout()\n",
    "plt.show()"
   ]
  },
  {
   "cell_type": "code",
   "execution_count": 100,
   "id": "36d1bf54-1635-4d2e-b0cd-ceb30d8074cb",
   "metadata": {
    "tags": []
   },
   "outputs": [
    {
     "data": {
      "text/plain": [
       "count              2572\n",
       "unique               55\n",
       "top       Data Engineer\n",
       "freq                624\n",
       "Name: job_title, dtype: object"
      ]
     },
     "execution_count": 100,
     "metadata": {},
     "output_type": "execute_result"
    }
   ],
   "source": [
    "# describing column job title\n",
    "salaries_df['job_title'].describe()"
   ]
  },
  {
   "cell_type": "markdown",
   "id": "ffb2a885-242b-4096-bbc7-726e1a11fef9",
   "metadata": {
    "tags": []
   },
   "source": [
    "<h3>Which job has the highest salaries? Illustrate with bar graph.</h3>"
   ]
  },
  {
   "cell_type": "code",
   "execution_count": 101,
   "id": "37c19006-c1d1-42eb-839f-30f70d1d78b4",
   "metadata": {
    "tags": []
   },
   "outputs": [],
   "source": [
    "#Grouping data by job title and calculating the mean salary for each job title\n",
    "mean_salary_by_job = salaries_df.groupby('job_title')['salary_in_usd'].mean()"
   ]
  },
  {
   "cell_type": "code",
   "execution_count": 102,
   "id": "c2290abf-78d0-4168-9838-c6408ebb87ac",
   "metadata": {
    "tags": []
   },
   "outputs": [
    {
     "name": "stdout",
     "output_type": "stream",
     "text": [
      "Data Lead:212500.0\n"
     ]
    }
   ],
   "source": [
    "#finding the job with the highest mean salary\n",
    "highest_paid_job = mean_salary_by_job.idxmax()\n",
    "highest_salary = round(mean_salary_by_job.max(),2)\n",
    "print(f\"{highest_paid_job}:{highest_salary}\")"
   ]
  },
  {
   "cell_type": "code",
   "execution_count": 103,
   "id": "a9bd01d9-97fc-413f-a605-5fc84d6c3257",
   "metadata": {
    "tags": []
   },
   "outputs": [
    {
     "data": {
      "text/plain": [
       "job_title\n",
       "Data Lead                            212500.000000\n",
       "Data Analytics Lead                  211254.500000\n",
       "Director of Data Science             195140.727273\n",
       "Applied Scientist                    190342.580645\n",
       "Head of Data                         183857.500000\n",
       "Data Science Manager                 181930.173077\n",
       "Data Science Lead                    180630.555556\n",
       "Data Infrastructure Engineer         175051.666667\n",
       "Research Engineer                    165909.393939\n",
       "Data Architect                       165821.352941\n",
       "Head of Data Science                 160591.666667\n",
       "Machine Learning Manager             155701.333333\n",
       "Cloud Database Engineer              155000.000000\n",
       "Research Scientist                   153486.369231\n",
       "Business Intelligence Engineer       151320.000000\n",
       "Analytics Engineer                   150151.747253\n",
       "Machine Learning Engineer            146375.289575\n",
       "Machine Learning Scientist           146240.947368\n",
       "Computer Vision Engineer             143536.111111\n",
       "Data Analytics Manager               140630.000000\n",
       "Data Engineer                        138087.650641\n",
       "AI Developer                         136666.090909\n",
       "ETL Developer                        135571.857143\n",
       "Data Scientist                       132975.827768\n",
       "NLP Engineer                         132785.285714\n",
       "MLOps Engineer                       129000.000000\n",
       "Data Specialist                      124583.333333\n",
       "Deep Learning Researcher             123405.000000\n",
       "BI Developer                         120284.083333\n",
       "Data Modeler                         118900.000000\n",
       "Data Manager                         115399.458333\n",
       "Data Operations Engineer             110808.333333\n",
       "AI Scientist                         110120.875000\n",
       "Deep Learning Engineer               109241.000000\n",
       "Machine Learning Researcher          107047.200000\n",
       "BI Analyst                           104888.888889\n",
       "Data Analyst                         101338.452915\n",
       "Data Analytics Specialist             95000.000000\n",
       "Data Science Engineer                 93482.000000\n",
       "Data Operations Analyst               90562.500000\n",
       "Data Science Consultant               85490.521739\n",
       "Data Quality Analyst                  83436.000000\n",
       "Data Analytics Consultant             81500.000000\n",
       "Data Strategist                       81000.000000\n",
       "Computer Vision Software Engineer     77694.600000\n",
       "Head of Machine Learning              76309.000000\n",
       "Machine Learning Developer            74518.285714\n",
       "ETL Engineer                          71394.500000\n",
       "Data Management Specialist            68293.000000\n",
       "Data Analytics Engineer               67866.166667\n",
       "AI Programmer                         55000.000000\n",
       "Data DevOps Engineer                  53654.000000\n",
       "Insight Analyst                       46786.000000\n",
       "Autonomous Vehicle Technician         26277.500000\n",
       "3D Computer Vision Researcher         21352.250000\n",
       "Name: salary_in_usd, dtype: float64"
      ]
     },
     "execution_count": 103,
     "metadata": {},
     "output_type": "execute_result"
    }
   ],
   "source": [
    "top_highest_mean_salary_by_job=mean_salary_by_job.sort_values(ascending=False)\n",
    "top_highest_mean_salary_by_job"
   ]
  },
  {
   "cell_type": "code",
   "execution_count": 104,
   "id": "d2295609-8e13-41e5-872c-bce163a00ed0",
   "metadata": {
    "tags": []
   },
   "outputs": [
    {
     "data": {
      "image/png": "[encoded data removed]",
      "text/plain": [
       "<Figure size 900x500 with 1 Axes>"
      ]
     },
     "metadata": {},
     "output_type": "display_data"
    }
   ],
   "source": [
    "# making a bar graph showing salaries for different job titles\n",
    "top_highest_mean_salary_by_job=mean_salary_by_job.sort_values(ascending=False)\n",
    "plt.figure(figsize=(9, 5))\n",
    "top_highest_mean_salary_by_job.plot(kind='bar', color='skyblue')\n",
    "plt.title('Mean Salaries by Job Title')\n",
    "plt.xlabel('Job Title')\n",
    "plt.ylabel('Mean Salary (USD)')\n",
    "plt.xticks(rotation=90)\n",
    "plt.tight_layout()"
   ]
  },
  {
   "cell_type": "markdown",
   "id": "f5f91a65-293f-49b7-b8bf-f1a9902395bb",
   "metadata": {},
   "source": [
    "<h3>Write a python program to find out salaries based on experience level. Illustrate it through bar graph.</h3>"
   ]
  },
  {
   "cell_type": "code",
   "execution_count": 105,
   "id": "50accba3-37f8-433f-8c82-1494d000b138",
   "metadata": {
    "tags": []
   },
   "outputs": [
    {
     "name": "stdout",
     "output_type": "stream",
     "text": [
      "Senior Level/Expert:153680.28904731042\n",
      "Medium Level/Intermediate:101786.29260935144\n",
      "Entry Level:72648.68518518518\n",
      "Executive Level:191078.20833333334\n"
     ]
    }
   ],
   "source": [
    "#retrieving mean salaries for different experience level\n",
    "experience_levels=salaries_df['experience_level'].unique()\n",
    "average_salaries=[]\n",
    "for level in experience_levels:\n",
    "    average_salary=salaries_df[salaries_df['experience_level']==level]['salary_in_usd'].mean()\n",
    "    print(f\"{level}:{average_salary}\")\n",
    "    average_salaries.append(average_salary)"
   ]
  },
  {
   "cell_type": "code",
   "execution_count": 106,
   "id": "9d798680-0e2a-44de-9f0c-e2546f225b50",
   "metadata": {
    "tags": []
   },
   "outputs": [
    {
     "data": {
      "image/png": "[encoded data removed]",
      "text/plain": [
       "<Figure size 800x500 with 1 Axes>"
      ]
     },
     "metadata": {},
     "output_type": "display_data"
    }
   ],
   "source": [
    "# making a bar graph showing salaries of different experience level\n",
    "plt.figure(figsize=(8, 5))\n",
    "plt.bar(experience_levels, average_salaries, color='skyblue')\n",
    "plt.title('Salary Based on Experience Level')\n",
    "plt.xlabel('Experience Level')\n",
    "plt.ylabel('Average Salary (USD)')\n",
    "plt.xticks(rotation=45)\n",
    "plt.tight_layout()\n",
    "plt.show()"
   ]
  },
  {
   "cell_type": "markdown",
   "id": "7256c56b-43b3-4fe4-88b5-73af7051a252",
   "metadata": {},
   "source": [
    "<h3>Write a Python program to show histogram and box plot of any chosen different variables. Use proper labels in the graph.</h3>\n"
   ]
  },
  {
   "cell_type": "code",
   "execution_count": 107,
   "id": "cbad317d-0668-44df-bdab-169d1de5b18e",
   "metadata": {},
   "outputs": [
    {
     "data": {
      "image/png": "[encoded data removed]",
      "text/plain": [
       "<Figure size 700x500 with 1 Axes>"
      ]
     },
     "metadata": {},
     "output_type": "display_data"
    }
   ],
   "source": [
    "# Defining start value for histogram\n",
    "start_value = salaries_df['salary_in_usd'].min()\n",
    "end_value = salaries_df['salary_in_usd'].max()\n",
    "\n",
    "# Defining bins for histogram\n",
    "bins = np.linspace(start_value, end_value, num=11)  \n",
    "\n",
    "#plotting the histogram\n",
    "plt.figure(figsize=(7, 5))\n",
    "plt.hist(salaries_df['salary_in_usd'], bins=bins, color='skyblue')\n",
    "plt.title('Histogram of Salary (in USD)')\n",
    "plt.xlabel('Salary (in USD)')\n",
    "plt.ylabel('Number of employee')\n",
    "plt.xticks(bins, rotation=45)  \n",
    "plt.grid(True)\n",
    "plt.show()"
   ]
  },
  {
   "cell_type": "code",
   "execution_count": 108,
   "id": "7951bf82-0cf4-4740-b3d2-6fe1aefe87ff",
   "metadata": {},
   "outputs": [
    {
     "data": {
      "image/png": "[encoded data removed]",
      "text/plain": [
       "<Figure size 640x480 with 1 Axes>"
      ]
     },
     "metadata": {},
     "output_type": "display_data"
    }
   ],
   "source": [
    "# Creating a box plot of the 'salary_in_usd' column of the 'salary_df' DataFrame\n",
    "plt.boxplot(salaries_df['salary_in_usd'])\n",
    "\n",
    "# Adding labels and title\n",
    "plt.xlabel('Salaries(in USD)')\n",
    "plt.ylabel('Frequency')\n",
    "plt.title('Salaries Distribution')\n",
    "\n",
    "# Showing the plot\n",
    "plt.show()"
   ]
  },
  {
   "cell_type": "code",
   "execution_count": 109,
   "id": "45a8c452-4917-4e3a-8c9a-c8c1356666c1",
   "metadata": {
    "tags": []
   },
   "outputs": [
    {
     "data": {
      "text/plain": [
       "count      2572.000000\n",
       "mean     133192.710342\n",
       "std       67150.079097\n",
       "min        5132.000000\n",
       "25%       84053.000000\n",
       "50%      129300.000000\n",
       "75%      175000.000000\n",
       "max      450000.000000\n",
       "Name: salary_in_usd, dtype: float64"
      ]
     },
     "execution_count": 109,
     "metadata": {},
     "output_type": "execute_result"
    }
   ],
   "source": [
    "# describing column salary_in_usd\n",
    "salaries_df['salary_in_usd'].describe()"
   ]
  },
  {
   "cell_type": "code",
   "execution_count": null,
   "id": "b399697c-c145-4910-a5d2-a0d3271f2b0e",
   "metadata": {},
   "outputs": [],
   "source": []
  }
 ],
 "metadata": {
  "kernelspec": {
   "display_name": "Python 3 (ipykernel)",
   "language": "python",
   "name": "python3"
  },
  "language_info": {
   "codemirror_mode": {
    "name": "ipython",
    "version": 3
   },
   "file_extension": ".py",
   "mimetype": "text/x-python",
   "name": "python",
   "nbconvert_exporter": "python",
   "pygments_lexer": "ipython3",
   "version": "3.11.5"
  }
 },
 "nbformat": 4,
 "nbformat_minor": 5
}
